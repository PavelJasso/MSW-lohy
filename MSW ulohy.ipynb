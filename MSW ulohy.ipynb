{
 "cells": [
  {
   "cell_type": "markdown",
   "metadata": {},
   "source": [
    "8. Derivace funkce jedné proměnné\n",
    "\n",
    "Zadání:\n",
    "Numerická derivace je velice krátké téma. V hodinách jste se dozvěděli o nejvyužívanějších typech numerické derivace (dopředná, zpětná, centrální). Jedno z neřešených témat na hodinách byl problém volby kroku. V praxi je vhodné mít krok dynamicky nastavitelný. Algoritmům tohoto typu se říká derivace s adaptabilním krokem. Cílem tohoto zadání je napsat program, který provede numerickou derivaci s adaptabilním krokem pro vámi vybranou funkci. Proveďte srovnání se statickým krokem a analytickým řešením.\n"
   ]
  },
  {
   "cell_type": "code",
   "execution_count": 9,
   "metadata": {},
   "outputs": [
    {
     "name": "stdout",
     "output_type": "stream",
     "text": [
      "Bez kroku pro dopřednou: 50.44000000000004, s krokem pro dopřednou: 61.0\n",
      "Bez kroku pro zpětnou: 45.640000000000036, s krokem pro dopřednou: 37.0\n",
      "Bez kroku pro centrální: 48.040000000000035, s krokem pro dopřednou: 49.0\n"
     ]
    }
   ],
   "source": [
    "#vypocty derivaci\n",
    "def forward_derivate(f, x0, k):\n",
    "    return (f(x0+k) - f(x0))/k\n",
    "\n",
    "def backward_derivate(f, x0, k):\n",
    "    return (f(x0) - f(x0-k))/k\n",
    "\n",
    "def central_derivate(f, x0, k):\n",
    "    return (f(x0+k) - f(x0-k))/(2*k)\n",
    "\n",
    "def forward_derivate_adaptive(f, x0, k_adaptive):\n",
    "    return (f(x0+k_adaptive) - f(x0))/k_adaptive\n",
    "\n",
    "def backward_derivate_adaptive(f, x0, k_adaptive):\n",
    "    return (f(x0) - f(x0-k_adaptive))/k_adaptive\n",
    "\n",
    "def central_derivate_adaptive(f, x0, k_adaptive):\n",
    "    return (f(x0+k_adaptive) - f(x0-k_adaptive))/(2*k_adaptive)\n",
    "\n",
    "#funkce a volba\n",
    "f = lambda x: x**3 + 1\n",
    "x0 = 4\n",
    "k = 0.2\n",
    "k_adaptive = float(input(\"Zadejte adaptivni krok: \"))\n",
    "\n",
    "#mezi vysledky\n",
    "fode = forward_derivate(f, x0, k)\n",
    "bade = backward_derivate(f, x0, k)\n",
    "cede = central_derivate(f, x0, k)\n",
    "fedead= forward_derivate_adaptive(f, x0, k_adaptive)\n",
    "badead = backward_derivate_adaptive(f, x0, k_adaptive)\n",
    "cedead = central_derivate_adaptive(f, x0, k_adaptive)\n",
    "\n",
    "#vysledky\n",
    "print(f\"Bez kroku pro doprednou: {fode}, s krokem pro doprednou: {fedead}\")\n",
    "print(f\"Bez kroku pro zpetnou: {bade}, s krokem pro doprednou: {badead}\")\n",
    "print(f\"Bez kroku pro centralni: {cede}, s krokem pro doprednou: {cedead}\")"
   ]
  },
  {
   "cell_type": "markdown",
   "metadata": {},
   "source": [
    "9. Integrace funkce jedné proměnné\n",
    "\n",
    "Zadání:\n",
    "V oblasti přírodních a sociálních věd je velice důležitým pojmem integrál, který představuje funkci součtů malých změn (počet nakažených covidem za čas, hustota monomerů daného typu při posouvání se v řetízku polymeru, aj.). Integraci lze provádět pro velmi jednoduché funkce prostou Riemannovým součtem, avšak pro složitější funkce je nutné využít pokročilé metody. Vaším úkolem je vybrat si 3 různorodé funkce (polynom, harmonická funkce, logaritmus/exponenciála) a vypočíst určitý integrál na dané funkci od nějakého počátku do nějakého konečného bodu. Porovnejte, jak si každá z metod poradila s vámi vybranou funkcí na základě přesnosti vůči analytickému řešení."
   ]
  },
  {
   "cell_type": "code",
   "execution_count": 15,
   "metadata": {},
   "outputs": [
    {
     "name": "stdout",
     "output_type": "stream",
     "text": [
      "Polynomická funkce\n",
      "Riemannuv ctverec 6.249999999999998\n",
      "Simpsonova metoda 6.250000000000007\n",
      "Rombergova metoda 6.25\n",
      "\n",
      "Harmonická funkce\n",
      "Riemannuv ctverec -1.300108522167793\n",
      "Simpsonova metoda -1.3001085280183236\n",
      "Rombergova metoda -1.3001085221676836\n",
      "\n",
      "Logaritmická funkce\n",
      "Riemannuv ctverec 2.844720497094347\n",
      "Simpsonova metoda 2.8447204969174082\n",
      "Rombergova metoda 2.844720497014345\n"
     ]
    }
   ],
   "source": [
    "import numpy as np\n",
    "from numpy import *\n",
    "from scipy import integrate\n",
    "\n",
    "#funkce\n",
    "def polynomial_function(x):\n",
    "    return x**3 - 3*x + 7\n",
    "\n",
    "def harmonic_function(x):\n",
    "    return 2*sin(3*x) \n",
    "\n",
    "def logarithm_function(x):\n",
    "    return log(6*x) + (2/3)\n",
    "\n",
    "#funkce vypoctu \n",
    "def riemannuv_ctverec(funkce, a, b):\n",
    "    return integrate.quadrature(funkce, a ,b)\n",
    "\n",
    "def simpsonova_metoda(funkce, c, d, h=0.01):\n",
    "    return integrate.simpson(funkce(np.arange(c, d+h, h)), np.arange(c, d+h, h))\n",
    "\n",
    "def rombergova_metoda(funkce, e, f):\n",
    "    return integrate.romberg(funkce, e, f)\n",
    " \n",
    "#vysledky\n",
    "print(\"Polynomicka funkce\")\n",
    "print(f\"Pomoci Riemannova ctverce {riemannuv_ctverec(polynomial_function, 1, 2)[0]}\")\n",
    "print(f\"Pomoci Simpsonovy metody {simpsonova_metoda(polynomial_function, 1, 2)}\")\n",
    "print(f\"Pomoci Rombergovy metody {rombergova_metoda(polynomial_function, 1, 2)}\")\n",
    "\n",
    "print(\"\\nHarmonicka funkce\")\n",
    "print(f\"Pomoci Riemannova ctverce {riemannuv_ctverec(harmonic_function, 1, 2)[0]}\")\n",
    "print(f\"Pomoci Simpsonovy metody {simpsonova_metoda(harmonic_function, 1, 2)}\")\n",
    "print(f\"Pomoci Rombergovy metody {rombergova_metoda(harmonic_function, 1, 2)}\")\n",
    "\n",
    "print(\"\\nLogaritmicka funkce\")\n",
    "print(f\"Pomoci Riemannova ctverce {riemannuv_ctverec(logarithm_function, 1, 2)[0]}\")\n",
    "print(f\"Pomoci Simpsonovy metody {simpsonova_metoda(logarithm_function, 1, 2)}\")\n",
    "print(f\"Pomoci Rombergovy metody {rombergova_metoda(logarithm_function, 1, 2)}\")"
   ]
  },
  {
   "cell_type": "markdown",
   "metadata": {},
   "source": [
    "1. Knihovny a moduly pro matematické výpočty\n",
    "\n",
    "Zadání:\n",
    "V tomto kurzu jste se učili s některými vybranými knihovnami. Některé sloužily pro rychlé vektorové operace jako NumPy, některé mají naprogramovány symbolické manipulace, které lze převést na numerické reprezentace (sympy), některé mají v sobě funkce pro numerickou integraci (scipy). Některé slouží i pro rychlé základní operace s čísly (numba).\n",
    "\n",
    "Vaším úkolem je změřit potřebný čas pro vyřešení nějakého problému (např.: provést skalární součin, vypočítat určitý integrál) pomocí standardního pythonu a pomocí specializované knihovny. Toto měření proveďte alespoň pro 5 různých úloh (ne pouze jiná čísla, ale úplně jiné téma) a minimálně porovnejte rychlost jednoho modulu se standardním pythonem. Ideálně proveďte porovnání ještě s dalším modulem a snažte se, ať je kód ve standardním pythonu napsán efektivně.  \n"
   ]
  },
  {
   "cell_type": "code",
   "execution_count": 7,
   "metadata": {},
   "outputs": [
    {
     "name": "stdout",
     "output_type": "stream",
     "text": [
      "Pomoci knihovny Numpy:\n",
      "Matice je [[  300 13104 25812]\n",
      " [  720 11820 16140]\n",
      " [   60 65472 42492]] a vypocet trval: 0.0 sekund\n",
      "Vlastni reseni:\n",
      "Matice je [[300, 13104, 25812], [720, 11820, 16140], [60, 65472, 42492]] a vypocet trval: 0.0 sekund\n",
      "Pomoci knihovny Numpy:\n",
      "Skalarni soucin je: 226 a vypocet trval: 0.0 sekund\n",
      "Vlastni reseni:\n",
      "Skalarni soucin je: 226 a vypocet trval: 0.0 sekund\n",
      "\n",
      "\n",
      "Pomoci knihovny Math:\n",
      "Faktorial z cisla 142364 je 5491114898 a vypocet trval: 0.234375 sekund\n",
      "Vlastni reseni:\n",
      "Faktorial z cisla 142364 je 5491114898 a vypocet trval: 4.484375 sekund\n",
      "\n",
      "\n",
      "Pomoci knihovny Scipy:\n",
      "Vypocet integrace je: 64.0 a vypocet trval: 0.0 sekund\n",
      "Vlastni reseni:\n",
      "Vypocet integrace je: 64.00000002011676 a vypocet trval: 0.046875 sekund\n",
      "\n",
      "\n",
      "Pomoci knihovny Sympy:\n",
      "Derivace je 645 a vypocet trval: 0.0 sekund\n",
      "Vlastni reseni:\n",
      "Derivace je 645.0980050001363 a vypocet trval: 0.0 sekund\n",
      "\n",
      "\n"
     ]
    }
   ],
   "source": [
    "from sympy import *\n",
    "import scipy.integrate as integrate\n",
    "import numpy as np\n",
    "from math import factorial\n",
    "from time import process_time\n",
    "\n",
    "\n",
    "#Nasobeni matice pomoci knihovny numpy\n",
    "start = process_time()\n",
    "matice = [[25, 1092, 2151], [60, 985, 1345], [5, 5456, 3541]]\n",
    "vysledek = np.array(matice)*12\n",
    "konec = process_time()\n",
    "\n",
    "print(\"Pomoci knihovny Numpy:\")\n",
    "print(f\"Matice je {vysledek} a vypocet trval: {(konec - start)} sekund\")\n",
    "\n",
    "#vlastni reseni \n",
    "start = process_time()\n",
    "matice = [[25, 1092, 2151], [60, 985, 1345], [5, 5456, 3541]]\n",
    "for i in range(len(matice)):\n",
    "    for j in range(len(matice[0])):\n",
    "        matice[i][j] = matice[i][j]*12\n",
    "konec = process_time()\n",
    "\n",
    "print(\"Vlastni reseni:\")\n",
    "print(f\"Matice je {matice} a vypocet trval: {(konec - start)} sekund\")\n",
    "\n",
    "\n",
    "#Skalarni soucin pomoci knihovny numpy\n",
    "start = process_time()\n",
    "a = np.array([4, 2, 12])\n",
    "b = np.array([2, 7, 17])\n",
    "vysledek = sum(a*b)\n",
    "konec = process_time()\n",
    "\n",
    "print(\"Pomoci knihovny Numpy:\")\n",
    "print(f\"Skalarni soucin je: {vysledek} a vypocet trval: {(konec - start)} sekund\")\n",
    "\n",
    "#vlastni reseni \n",
    "start = process_time()\n",
    "vysledek = 0\n",
    "a = (4, 2, 12)\n",
    "b = (2, 7, 17)\n",
    "for i in range(len(a)):\n",
    "    vysledek += a[i]*b[i]\n",
    "konec = process_time()\n",
    "\n",
    "print(\"Vlastni reseni:\")\n",
    "print(f\"Skalarni soucin je: {vysledek} a vypocet trval: {(konec - start)} sekund\")\n",
    "print(\"\\n\")\n",
    "\n",
    "\n",
    "#Vypocet faktorialu pomoci knihovny math\n",
    "start = process_time()\n",
    "x = 142364\n",
    "vysledek = factorial(x)\n",
    "konec = process_time()\n",
    "vysledek = str(vysledek)\n",
    "\n",
    "print(\"Pomoci knihovny Math:\")\n",
    "print(f\"Faktorial z cisla {x} je {vysledek[:10]} a vypocet trval: {(konec - start)} sekund\")\n",
    "\n",
    "#vlastni reseni\n",
    "start = process_time()\n",
    "x = 142364\n",
    "vysledek = 1\n",
    "for i in range(1, x+1):\n",
    "    vysledek = vysledek * i \n",
    "konec = process_time()\n",
    "vysledek = str(vysledek)\n",
    "\n",
    "print(\"Vlastni reseni:\")\n",
    "print(f\"Faktorial z cisla {x} je {vysledek[:10]} a vypocet trval: {(konec - start)} sekund\")\n",
    "print(\"\\n\")\n",
    "\n",
    " \n",
    "#Integrace pomoci knihovny scipy\n",
    "start = process_time()\n",
    "vysledek = integrate.quad(lambda x: (3*x**2-6*x+3), 1, 5)\n",
    "konec = process_time()\n",
    "\n",
    "print(\"Pomoci knihovny Scipy:\")\n",
    "print(f\"Vypocet integrace je: {vysledek[0]} a vypocet trval: {(konec - start)} sekund\")\n",
    "\n",
    "#vlastni reseni\n",
    "def f(x):\n",
    "    return (3*x**2-6*x+3)\n",
    "\n",
    "start = process_time()\n",
    "vysledek = 0\n",
    "a = 1\n",
    "b = 5\n",
    "dx = 0.0001\n",
    "while a < b:\n",
    "    vysledek += dx * (f(a) + f((a+dx)))/2\n",
    "    a += dx\n",
    "konec = process_time()\n",
    "\n",
    "print(\"Vlastni reseni:\")\n",
    "print(f\"Vypocet integrace je: {vysledek} a vypocet trval: {(konec - start)} sekund\")\n",
    "print(\"\\n\")\n",
    "\n",
    "\n",
    "#derivace pomoci knihovny sympy \n",
    "def derivace_sym(funkce, promenna, hodnota):\n",
    "    promenna = symbols(\"x\")\n",
    "    derivace = diff(funkce, promenna)\n",
    "    return (derivace.subs(x, hodnota)).doit()\n",
    "    \n",
    "start = process_time()\n",
    "x = symbols('x')\n",
    "funkce = 5*x**3-7*x**2+8*x-14\n",
    "vysledek = derivace_sym(funkce, x, 7)\n",
    "\n",
    "konec = process_time()\n",
    "\n",
    "print(\"Pomoci knihovny Sympy:\")\n",
    "print(f\"Derivace je {vysledek} a vypocet trval: {(konec - start)} sekund\")\n",
    "\n",
    "#vlastni reseni\n",
    "def f(x):\n",
    "    return 5*x**3-7*x**2+8*x-14\n",
    "\n",
    "def derivace(funkce, hodnota, h=0.001):\n",
    "    return (funkce(hodnota+h) - funkce(hodnota))/h\n",
    "\n",
    "start = process_time()\n",
    "vysledek = derivace(f, 7)\n",
    "konec = process_time()\n",
    "\n",
    "print(\"Vlastni reseni:\")\n",
    "print(f\"Derivace je {vysledek} a vypocet trval: {(konec - start)} sekund\")\n",
    "print(\"\\n\")\n",
    "\n"
   ]
  },
  {
   "cell_type": "markdown",
   "metadata": {},
   "source": [
    "3. Úvod do lineární algebry\n",
    "\n",
    "Zadání:\n",
    "Důležitou částí studia na přírodovědecké fakultě je podobor matematiky zvaný lineární algebra. Poznatky tohoto oboru jsou základem pro oblasti jako zpracování obrazu, strojové učení nebo návrh mechanických soustav s definovanou stabilitou. Základní úlohou v lineární algebře je nalezení neznámých v soustavě lineárních rovnic. Na hodinách jste byli obeznámeni s přímou a iterační metodou pro řešení soustav lineárních rovnic. Vaším úkolem je vytvořit graf, kde na ose x bude velikost čtvercové matice a na ose y průměrný čas potřebný k nalezení uspokojivého řešení. Cílem je nalézt takovou velikost matice, od které je výhodnější využít iterační metodu.\n"
   ]
  },
  {
   "cell_type": "code",
   "execution_count": 6,
   "metadata": {},
   "outputs": [
    {
     "name": "stdout",
     "output_type": "stream",
     "text": [
      "Zvolena velikost ctvercove matice je : 5\n"
     ]
    },
    {
     "data": {
      "image/png": "[encoded data removed]",
      "text/plain": [
       "<Figure size 432x288 with 1 Axes>"
      ]
     },
     "metadata": {
      "needs_background": "light"
     },
     "output_type": "display_data"
    }
   ],
   "source": [
    "import numpy as np\n",
    "from numpy import *\n",
    "import time\n",
    "import matplotlib.pyplot as plt\n",
    "\n",
    "#Jacobiho metoda \n",
    "def jacobi(A, b, niteraci, x0):\n",
    "    x = x0\n",
    "    D = np.diag(A)\n",
    "    L = np.tril(A, k = -1)\n",
    "    U = np.triu(A, k = 1)\n",
    "    for i in range(niteraci):\n",
    "        x = (b - np.matmul((L + U),x))/D\n",
    "        if (np.allclose(x, vysledek_gaus, rtol=1e-8, atol=1e-9,)) == True: \n",
    "            break\n",
    "    return x\n",
    "\n",
    "#Gausova metoda \n",
    "def gaus(A,b):\n",
    "    x = np.linalg.solve(A, b)\n",
    "    return x\n",
    "\n",
    "casyG1 = [ ]\n",
    "casyJ1 = [ ]\n",
    "casyG2 = [ ]\n",
    "casyJ2 = [ ]\n",
    "\n",
    "#tvorba rady rovnic\n",
    "h = input (\"Zadejte velikost ctvercove matice = \" ) \n",
    "print(\"Zvolena velikost ctvercove matice je :\", h)\n",
    "h = int(h)\n",
    "\n",
    "for M in range (h-1):\n",
    "    M = M + 2\n",
    "    a = np.ones(M) \n",
    "    array\n",
    "    \n",
    "    #diagonalni matice\n",
    "    A1 = np.diagflat([a])\n",
    "    diag\n",
    "    \n",
    "    #jednotkova matice\n",
    "    A2 = np.ones((M, M), dtype=int)\n",
    "    array\n",
    "   \n",
    "    #jednotkova + diagonalni matice\n",
    "    A = A1 + A2\n",
    "    \n",
    "    #tvorba matice prava strana\n",
    "    b1 = np.ones(M)\n",
    "    array\n",
    "    b = b1*(M+1)\n",
    "    \n",
    "    #opakovani vypoctu\n",
    "    for v in range (100):\n",
    "        x0 = np.ones(len(A))\n",
    "        \n",
    "        #vypocty + cas pro Gausovu metodu\n",
    "        gstart = time.perf_counter()\n",
    "        vysledek_gaus = gaus(A,b)\n",
    "        gend = time.perf_counter()\n",
    "        g = gend - gstart\n",
    "        g = round(1000000*g)\n",
    "        \n",
    "        #vypocty + cas pro Jacobiho metodu\n",
    "        jstart = time.perf_counter()\n",
    "        vysledek_jacobi = jacobi(A,b,100,x0)\n",
    "        jend = time.perf_counter()\n",
    "        j = jend - jstart\n",
    "        j = round(1000000*j)\n",
    "    \n",
    "        casyG1.append(g)\n",
    "        casyJ1.append(j)\n",
    "\n",
    "    PG = mean(casyG1)\n",
    "    PJ = mean(casyJ1)\n",
    "    casyG1 = [ ]\n",
    "    casyJ1 = [ ]\n",
    "    casyG2.append(PG)   \n",
    "    casyJ2.append(PJ)   \n",
    "\n",
    "#vysledny graf\n",
    "fig, ax = plt.subplots ()\n",
    "line = plt.plot(casyG2, label = \"Gausova eliminace\")\n",
    "line = plt.plot(casyJ2, label = \"Jacobiho iteracni metoda\")\n",
    "plt.title(r\"Potrebny cas k vypoctu dane linearni soustavy rovnic\")\n",
    "plt.xlabel('Velikost ctvercove matice')\n",
    "plt.ylabel('Doba vypoctu [10^-6 s]')\n",
    "\n",
    "ax.legend(loc=2)\n",
    "\n",
    "plt.show() \n"
   ]
  },
  {
   "cell_type": "markdown",
   "metadata": {},
   "source": [
    "5. Hledání kořenů rovnice\n",
    "\n",
    "Zadání:\n",
    "Vyhledávání hodnot, při kterých dosáhne zkoumaný signál vybrané hodnoty je důležitou součástí analýzy časových řad. Pro tento účel existuje spousta zajímavých metod. Jeden typ metod se nazývá ohraničené (například metoda půlení intervalu), při kterých je zaručeno nalezení kořenu avšak metody typicky konvergují pomalu. Druhý typ metod se nazývá neohraničené, které konvergují rychle, avšak svojí povahou nemusí nalézt řešení (metody využívající derivace). Vaším úkolem je vybrat tři různorodé funkce (například polynomiální, exponenciální/logaritmickou, harmonickou se směrnicí, aj.), které mají alespoň jeden kořen a nalézt ho jednou uzavřenou a jednou otevřenou metodou. Porovnejte časovou náročnost nalezení kořene a přesnost nalezení. \n"
   ]
  },
  {
   "cell_type": "code",
   "execution_count": 8,
   "metadata": {},
   "outputs": [
    {
     "name": "stdout",
     "output_type": "stream",
     "text": [
      "Opakovani pro presnost 0.001: 13\n",
      "Koren pro funkci je 0.71190185546875\n",
      "Funkcni hodnota v tomto bode je -0.6392051127699979\n"
     ]
    },
    {
     "data": {
      "image/png": "[encoded data removed]",
      "text/plain": [
       "<Figure size 432x288 with 1 Axes>"
      ]
     },
     "metadata": {
      "needs_background": "light"
     },
     "output_type": "display_data"
    },
    {
     "name": "stdout",
     "output_type": "stream",
     "text": [
      "Opakovani pro presnost 0.001: 10\n",
      "Koren pro funkci je 0.5491210937500001\n",
      "Funkcni hodnota v tomto bode je -0.4479490887499552\n"
     ]
    },
    {
     "data": {
      "image/png": "[encoded data removed]",
      "text/plain": [
       "<Figure size 432x288 with 1 Axes>"
      ]
     },
     "metadata": {
      "needs_background": "light"
     },
     "output_type": "display_data"
    },
    {
     "name": "stdout",
     "output_type": "stream",
     "text": [
      "Opakovani pro presnost 0.001: 11\n",
      "Koren pro funkci je 1.9990234375\n",
      "Funkcni hodnota v tomto bode je -0.6146824398763271\n"
     ]
    },
    {
     "data": {
      "image/png": "[encoded data removed]",
      "text/plain": [
       "<Figure size 432x288 with 1 Axes>"
      ]
     },
     "metadata": {
      "needs_background": "light"
     },
     "output_type": "display_data"
    },
    {
     "name": "stdout",
     "output_type": "stream",
     "text": [
      "Opakovani pro presnost 0.001: 11\n",
      "Koren pro funkci je 1.0000009147811104\n",
      "Funkcni hodnota v tomto bode je 2.74434584168759e-06\n"
     ]
    },
    {
     "data": {
      "image/png": "[encoded data removed]",
      "text/plain": [
       "<Figure size 432x288 with 1 Axes>"
      ]
     },
     "metadata": {
      "needs_background": "light"
     },
     "output_type": "display_data"
    },
    {
     "name": "stdout",
     "output_type": "stream",
     "text": [
      "Opakovani pro presnost 0.001: 164379\n",
      "Koren pro funkci je 0.7596221741281741\n",
      "Funkcni hodnota v tomto bode je 3.7993566713856453e-06\n"
     ]
    },
    {
     "data": {
      "image/png": "[encoded data removed]",
      "text/plain": [
       "<Figure size 432x288 with 1 Axes>"
      ]
     },
     "metadata": {
      "needs_background": "light"
     },
     "output_type": "display_data"
    },
    {
     "name": "stdout",
     "output_type": "stream",
     "text": [
      "Opakovani pro presnost 0.001: 5\n",
      "Koren pro funkci je 2.718280405091202\n",
      "Funkcni hodnota v tomto bode je -1.0472558076290994e-06\n"
     ]
    },
    {
     "data": {
      "image/png": "[encoded data removed]",
      "text/plain": [
       "<Figure size 432x288 with 1 Axes>"
      ]
     },
     "metadata": {
      "needs_background": "light"
     },
     "output_type": "display_data"
    }
   ],
   "source": [
    "import numpy as np\n",
    "from numpy import sin, log\n",
    "import matplotlib.pyplot as plt\n",
    "from scipy.misc import derivative\n",
    "\n",
    "#Funkce\n",
    "l1 = lambda x : x**3 - 1\n",
    "l2 = lambda x : -sin(3*x) + x\n",
    "l3 = lambda x : log(x**2) - 2\n",
    "\n",
    "#Uzavrena metoda - bisekce, puleni intervalu\n",
    "def uzavrena_metoda(funkce, min0, max0, presnost=0.001):\n",
    "    opakovani = 0\n",
    "    min, max = min0, max0\n",
    "    while abs(max-min) > presnost:\n",
    "        koren = (max + min)/2\n",
    "        if funkce(min)*funkce(max) < 0:\n",
    "            max = koren\n",
    "        else:\n",
    "            min = koren\n",
    "        opakovani += 1\n",
    "    print(f\"Opakovani pro presnost 0.001: {opakovani}\")\n",
    "    return koren\n",
    "\n",
    "def vysledekUM(funkce, min, max, koren, nazev):\n",
    "    print(f\"Koren pro funkci je {koren}\")\n",
    "    print(f\"Funkcni hodnota v tomto bode je {funkce(koren)}\")\n",
    "    plt.plot(np.linspace(min, max), funkce(np.linspace(min, max)), \"r\")\n",
    "    plt.plot(koren, funkce(koren), \"bo\")\n",
    "    plt.title(nazev)\n",
    "    plt.show()\n",
    "\n",
    "vysledekUM(l1, 0.1, 10, uzavrena_metoda(l1, 0.1, 5), \"x**3 - 1\")\n",
    "vysledekUM(l2, 0.1, 10, uzavrena_metoda(l2, 0.1, 1), \"-sin(3*x) + x\")\n",
    "vysledekUM(l3, 0.1, 10, uzavrena_metoda(l3, 1, 3), \"log(x**2) - 2\")\n",
    "\n",
    "\n",
    "#otevrena metoda - Newtonova metoda tecen (pomoci derivace)\n",
    "def otevrena_metoda(funkce, bod, presnost=0.00001):\n",
    "    opakovani = 0\n",
    "    while abs(funkce(bod)) > presnost:\n",
    "        koren = bod - (funkce(bod) / derivative(funkce, bod))\n",
    "        bod = koren\n",
    "        opakovani += 1\n",
    "    koren = bod\n",
    "    print(f\"Opakovani pro presnost 0.001: {opakovani}\")\n",
    "    return koren\n",
    "\n",
    "\n",
    "def vysledekOM(funkce, min, max, koren, nazev):\n",
    "    print(f\"Koren pro funkci je {koren}\")\n",
    "    print(f\"Funkcni hodnota v tomto bode je {funkce(koren)}\")\n",
    "    plt.plot(np.linspace(min, max), funkce(np.linspace(min, max)), \"r\")\n",
    "    plt.plot(koren, funkce(koren), \"bo\")\n",
    "    plt.title(nazev)\n",
    "    plt.show()\n",
    "\n",
    "vysledekOM(l1, 0.1, 10, otevrena_metoda(l1, 2), \"x**3 - 1\")\n",
    "vysledekOM(l2, 0.1, 10, otevrena_metoda(l2, 0.1), \"-sin(3*x) + x\")\n",
    "vysledekOM(l3, 0.1, 10, otevrena_metoda(l3, 2), \"log(x**2) - 2\")"
   ]
  }
 ],
 "metadata": {
  "interpreter": {
   "hash": "e593ac106456af50ce7af38f9671c411b49d6cd90f9b885e167f0f594e09038c"
  },
  "kernelspec": {
   "display_name": "Python 3.10.4 64-bit",
   "language": "python",
   "name": "python3"
  },
  "language_info": {
   "codemirror_mode": {
    "name": "ipython",
    "version": 3
   },
   "file_extension": ".py",
   "mimetype": "text/x-python",
   "name": "python",
   "nbconvert_exporter": "python",
   "pygments_lexer": "ipython3",
   "version": "3.10.4"
  },
  "orig_nbformat": 4
 },
 "nbformat": 4,
 "nbformat_minor": 2
}
